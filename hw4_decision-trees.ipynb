{
 "cells": [
  {
   "cell_type": "markdown",
   "metadata": {},
   "source": [
    "### Lecture 4: Homework"
   ]
  },
  {
   "cell_type": "markdown",
   "metadata": {},
   "source": [
    "Today we gonna learn how to choose between ML models, based on data type. Your task would be to predict **the edibility of a mushroom** based on sample descriptions (binary classification problem)\n",
    "\n",
    "The **tricky part here is that 95% of the features are of categorical type.**\n",
    "<br>That's the one where we would **(usually)  prefer tree-based algorithms over linear methods**\n",
    "\n",
    "Although this dataset was originally contributed to the UCI Machine Learning repository nearly 30 years ago, mushroom hunting (otherwise known as \"shrooming\") is enjoying new peaks in popularity. Learn which features spell certain death and which are most palatable in this dataset of mushroom characteristics. And how certain can your model be?\n",
    "\n",
    "This dataset includes descriptions of hypothetical samples corresponding to 23 species of gilled mushrooms in the Agaricus and Lepiota Family Mushroom drawn from The Audubon Society Field Guide to North American Mushrooms (1981). Each species is identified as definitely edible, definitely poisonous, or of unknown edibility and not recommended. This latter class was combined with the poisonous one. The Guide clearly states that there is no simple rule for determining the edibility of a mushroom; no rule like \"leaflets three, let it be'' for Poisonous Oak and Ivy.\n",
    "\n",
    "More information can be found [here](https://www.kaggle.com/uciml/mushroom-classification/data)\n",
    "\n",
    "Please find below correspondent [google form](https://docs.google.com/forms/d/e/1FAIpQLScmKfUApMlcD81u9UZxM7xG3vJiEJHrPrG-3b0i_jyPEDijgQ/viewform) to submit your answers"
   ]
  },
  {
   "cell_type": "code",
   "execution_count": 200,
   "metadata": {
    "ExecuteTime": {
     "end_time": "2018-03-01T19:13:18.719050Z",
     "start_time": "2018-03-01T19:13:18.204437Z"
    },
    "collapsed": true
   },
   "outputs": [],
   "source": [
    "# library import\n",
    "import pandas as pd\n",
    "import numpy as np\n",
    "from os.path import join as pjoin\n",
    "pd.options.display.max_columns = 50\n",
    "pd.options.display.max_colwidth = 100\n",
    "\n",
    "#visualisation\n",
    "%matplotlib inline\n",
    "import seaborn as sns\n",
    "import matplotlib.pyplot as plt\n",
    "plt.rcParams['figure.figsize'] = 16, 10\n",
    "\n",
    "# preprocessing / validation\n",
    "from sklearn.preprocessing import LabelEncoder, OneHotEncoder\n",
    "from sklearn.model_selection import (\n",
    "    train_test_split, StratifiedKFold, cross_val_score, GridSearchCV\n",
    ")\n",
    "# ML models\n",
    "from sklearn.tree import DecisionTreeClassifier\n",
    "from sklearn.linear_model import LogisticRegression\n",
    "\n",
    "# metrics\n",
    "from sklearn.metrics import classification_report, f1_score\n",
    "\n",
    "#feature selection\n",
    "from sklearn.feature_selection import VarianceThreshold"
   ]
  },
  {
   "cell_type": "code",
   "execution_count": 201,
   "metadata": {
    "ExecuteTime": {
     "end_time": "2018-03-01T19:13:18.765926Z",
     "start_time": "2018-03-01T19:13:18.719050Z"
    }
   },
   "outputs": [
    {
     "name": "stdout",
     "output_type": "stream",
     "text": [
      "(6499, 23) (1625, 22)\n"
     ]
    }
   ],
   "source": [
    "# read data\n",
    "DATA_DIR = '../data'\n",
    "df_train = pd.read_csv(pjoin(DATA_DIR, '4-mushrooms-train.csv'), engine='c')\n",
    "df_test = pd.read_csv(pjoin(DATA_DIR, '4-mushrooms-test.csv'), engine='c')\n",
    "print(df_train.shape, df_test.shape)"
   ]
  },
  {
   "cell_type": "code",
   "execution_count": 202,
   "metadata": {
    "ExecuteTime": {
     "end_time": "2018-03-01T19:13:18.803688Z",
     "start_time": "2018-03-01T19:13:18.765926Z"
    }
   },
   "outputs": [
    {
     "data": {
      "text/html": [
       "<div>\n",
       "<style>\n",
       "    .dataframe thead tr:only-child th {\n",
       "        text-align: right;\n",
       "    }\n",
       "\n",
       "    .dataframe thead th {\n",
       "        text-align: left;\n",
       "    }\n",
       "\n",
       "    .dataframe tbody tr th {\n",
       "        vertical-align: top;\n",
       "    }\n",
       "</style>\n",
       "<table border=\"1\" class=\"dataframe\">\n",
       "  <thead>\n",
       "    <tr style=\"text-align: right;\">\n",
       "      <th></th>\n",
       "      <th>target</th>\n",
       "      <th>cap_shape</th>\n",
       "      <th>cap_surface</th>\n",
       "      <th>cap_color</th>\n",
       "      <th>bruises</th>\n",
       "      <th>odor</th>\n",
       "      <th>gill_attachment</th>\n",
       "      <th>gill_spacing</th>\n",
       "      <th>gill_size</th>\n",
       "      <th>gill_color</th>\n",
       "      <th>stalk_shape</th>\n",
       "      <th>stalk_root</th>\n",
       "      <th>stalk_surface_above_ring</th>\n",
       "      <th>stalk_surface_below_ring</th>\n",
       "      <th>stalk_color_above_ring</th>\n",
       "      <th>stalk_color_below_ring</th>\n",
       "      <th>veil_type</th>\n",
       "      <th>veil_color</th>\n",
       "      <th>ring_number</th>\n",
       "      <th>ring_type</th>\n",
       "      <th>spore_print_color</th>\n",
       "      <th>population</th>\n",
       "      <th>habitat</th>\n",
       "    </tr>\n",
       "  </thead>\n",
       "  <tbody>\n",
       "    <tr>\n",
       "      <th>0</th>\n",
       "      <td>0</td>\n",
       "      <td>convex</td>\n",
       "      <td>scaly</td>\n",
       "      <td>brown</td>\n",
       "      <td>bruises</td>\n",
       "      <td>pungent</td>\n",
       "      <td>free</td>\n",
       "      <td>close</td>\n",
       "      <td>narrow</td>\n",
       "      <td>white</td>\n",
       "      <td>enlarging</td>\n",
       "      <td>equal</td>\n",
       "      <td>smooth</td>\n",
       "      <td>smooth</td>\n",
       "      <td>white</td>\n",
       "      <td>white</td>\n",
       "      <td>partial</td>\n",
       "      <td>white</td>\n",
       "      <td>one</td>\n",
       "      <td>pendant</td>\n",
       "      <td>brown</td>\n",
       "      <td>scattered</td>\n",
       "      <td>urban</td>\n",
       "    </tr>\n",
       "    <tr>\n",
       "      <th>1</th>\n",
       "      <td>1</td>\n",
       "      <td>flat</td>\n",
       "      <td>fibrous</td>\n",
       "      <td>gray</td>\n",
       "      <td>bruises</td>\n",
       "      <td>none</td>\n",
       "      <td>free</td>\n",
       "      <td>close</td>\n",
       "      <td>broad</td>\n",
       "      <td>brown</td>\n",
       "      <td>tapering</td>\n",
       "      <td>bulbous</td>\n",
       "      <td>smooth</td>\n",
       "      <td>smooth</td>\n",
       "      <td>white</td>\n",
       "      <td>white</td>\n",
       "      <td>partial</td>\n",
       "      <td>white</td>\n",
       "      <td>one</td>\n",
       "      <td>pendant</td>\n",
       "      <td>brown</td>\n",
       "      <td>several</td>\n",
       "      <td>woods</td>\n",
       "    </tr>\n",
       "    <tr>\n",
       "      <th>2</th>\n",
       "      <td>0</td>\n",
       "      <td>flat</td>\n",
       "      <td>smooth</td>\n",
       "      <td>brown</td>\n",
       "      <td>no</td>\n",
       "      <td>none</td>\n",
       "      <td>attached</td>\n",
       "      <td>close</td>\n",
       "      <td>broad</td>\n",
       "      <td>orange</td>\n",
       "      <td>enlarging</td>\n",
       "      <td>missing</td>\n",
       "      <td>smooth</td>\n",
       "      <td>smooth</td>\n",
       "      <td>orange</td>\n",
       "      <td>orange</td>\n",
       "      <td>partial</td>\n",
       "      <td>orange</td>\n",
       "      <td>one</td>\n",
       "      <td>pendant</td>\n",
       "      <td>brown</td>\n",
       "      <td>several</td>\n",
       "      <td>leaves</td>\n",
       "    </tr>\n",
       "    <tr>\n",
       "      <th>3</th>\n",
       "      <td>1</td>\n",
       "      <td>convex</td>\n",
       "      <td>fibrous</td>\n",
       "      <td>gray</td>\n",
       "      <td>bruises</td>\n",
       "      <td>none</td>\n",
       "      <td>free</td>\n",
       "      <td>close</td>\n",
       "      <td>broad</td>\n",
       "      <td>brown</td>\n",
       "      <td>tapering</td>\n",
       "      <td>bulbous</td>\n",
       "      <td>smooth</td>\n",
       "      <td>smooth</td>\n",
       "      <td>white</td>\n",
       "      <td>white</td>\n",
       "      <td>partial</td>\n",
       "      <td>white</td>\n",
       "      <td>one</td>\n",
       "      <td>pendant</td>\n",
       "      <td>black</td>\n",
       "      <td>solitary</td>\n",
       "      <td>woods</td>\n",
       "    </tr>\n",
       "    <tr>\n",
       "      <th>4</th>\n",
       "      <td>0</td>\n",
       "      <td>knobbed</td>\n",
       "      <td>smooth</td>\n",
       "      <td>brown</td>\n",
       "      <td>no</td>\n",
       "      <td>foul</td>\n",
       "      <td>free</td>\n",
       "      <td>close</td>\n",
       "      <td>narrow</td>\n",
       "      <td>buff</td>\n",
       "      <td>tapering</td>\n",
       "      <td>missing</td>\n",
       "      <td>silky</td>\n",
       "      <td>smooth</td>\n",
       "      <td>pink</td>\n",
       "      <td>pink</td>\n",
       "      <td>partial</td>\n",
       "      <td>white</td>\n",
       "      <td>one</td>\n",
       "      <td>evanescent</td>\n",
       "      <td>white</td>\n",
       "      <td>several</td>\n",
       "      <td>paths</td>\n",
       "    </tr>\n",
       "  </tbody>\n",
       "</table>\n",
       "</div>"
      ],
      "text/plain": [
       "   target cap_shape cap_surface cap_color  bruises     odor gill_attachment  \\\n",
       "0       0    convex       scaly     brown  bruises  pungent            free   \n",
       "1       1      flat     fibrous      gray  bruises     none            free   \n",
       "2       0      flat      smooth     brown       no     none        attached   \n",
       "3       1    convex     fibrous      gray  bruises     none            free   \n",
       "4       0   knobbed      smooth     brown       no     foul            free   \n",
       "\n",
       "  gill_spacing gill_size gill_color stalk_shape stalk_root  \\\n",
       "0        close    narrow      white   enlarging      equal   \n",
       "1        close     broad      brown    tapering    bulbous   \n",
       "2        close     broad     orange   enlarging    missing   \n",
       "3        close     broad      brown    tapering    bulbous   \n",
       "4        close    narrow       buff    tapering    missing   \n",
       "\n",
       "  stalk_surface_above_ring stalk_surface_below_ring stalk_color_above_ring  \\\n",
       "0                   smooth                   smooth                  white   \n",
       "1                   smooth                   smooth                  white   \n",
       "2                   smooth                   smooth                 orange   \n",
       "3                   smooth                   smooth                  white   \n",
       "4                    silky                   smooth                   pink   \n",
       "\n",
       "  stalk_color_below_ring veil_type veil_color ring_number   ring_type  \\\n",
       "0                  white   partial      white         one     pendant   \n",
       "1                  white   partial      white         one     pendant   \n",
       "2                 orange   partial     orange         one     pendant   \n",
       "3                  white   partial      white         one     pendant   \n",
       "4                   pink   partial      white         one  evanescent   \n",
       "\n",
       "  spore_print_color population habitat  \n",
       "0             brown  scattered   urban  \n",
       "1             brown    several   woods  \n",
       "2             brown    several  leaves  \n",
       "3             black   solitary   woods  \n",
       "4             white    several   paths  "
      ]
     },
     "execution_count": 202,
     "metadata": {},
     "output_type": "execute_result"
    }
   ],
   "source": [
    "# let's see what data looks like\n",
    "df_train.head()"
   ]
  },
  {
   "cell_type": "code",
   "execution_count": 203,
   "metadata": {
    "ExecuteTime": {
     "end_time": "2018-03-01T19:13:18.834937Z",
     "start_time": "2018-03-01T19:13:18.803688Z"
    }
   },
   "outputs": [
    {
     "name": "stdout",
     "output_type": "stream",
     "text": [
      "(8124, 24)\n"
     ]
    },
    {
     "data": {
      "text/plain": [
       "True     6499\n",
       "False    1625\n",
       "Name: is_train, dtype: int64"
      ]
     },
     "execution_count": 203,
     "metadata": {},
     "output_type": "execute_result"
    }
   ],
   "source": [
    "# for convenient calculations, let us merge train with test\n",
    "df = pd.concat([df_train, df_test], axis=0)\n",
    "# add column for filtering train/test\n",
    "df['is_train'] = True\n",
    "df.loc[df.target.isnull(), 'is_train'] = False\n",
    "# check shapes\n",
    "print(df.shape)\n",
    "# check labels\n",
    "df.is_train.value_counts()"
   ]
  },
  {
   "cell_type": "markdown",
   "metadata": {
    "ExecuteTime": {
     "end_time": "2018-03-01T15:42:12.821025Z",
     "start_time": "2018-03-01T15:42:09.355356Z"
    }
   },
   "source": [
    "### Task 1. Which feature has the highest amount of unique values? (joint dataset)\n"
   ]
  },
  {
   "cell_type": "code",
   "execution_count": 204,
   "metadata": {
    "ExecuteTime": {
     "end_time": "2018-03-01T19:13:18.866187Z",
     "start_time": "2018-03-01T19:13:18.834937Z"
    }
   },
   "outputs": [
    {
     "name": "stdout",
     "output_type": "stream",
     "text": [
      "gill_color\n"
     ]
    }
   ],
   "source": [
    "# your code goes here\n",
    "# ---------------------------------------------------------------\n",
    "most_diversive = df.nunique().argmax()\n",
    "# ---------------------------------------------------------------\n",
    "\n",
    "print(most_diversive)"
   ]
  },
  {
   "cell_type": "markdown",
   "metadata": {
    "ExecuteTime": {
     "end_time": "2018-03-01T15:54:52.296735Z",
     "start_time": "2018-03-01T15:54:52.281115Z"
    }
   },
   "source": [
    "### Task 2\n",
    "**As a preparation, one would spend up to 15-30 minutes on exploratory data analysis (EDA)** - make sure you understand how features are distributed in train/test, what they look like, are they ordinal/binary/categorical before moving further\n",
    "<br>While doing it, please answer the questions"
   ]
  },
  {
   "cell_type": "markdown",
   "metadata": {},
   "source": [
    "### Let's look at number of unique features"
   ]
  },
  {
   "cell_type": "code",
   "execution_count": 205,
   "metadata": {},
   "outputs": [
    {
     "data": {
      "text/plain": [
       "bruises                      2\n",
       "cap_color                   10\n",
       "cap_shape                    6\n",
       "cap_surface                  4\n",
       "gill_attachment              2\n",
       "gill_color                  12\n",
       "gill_size                    2\n",
       "gill_spacing                 2\n",
       "habitat                      7\n",
       "odor                         9\n",
       "population                   6\n",
       "ring_number                  3\n",
       "ring_type                    5\n",
       "spore_print_color            9\n",
       "stalk_color_above_ring       9\n",
       "stalk_color_below_ring       9\n",
       "stalk_root                   5\n",
       "stalk_shape                  2\n",
       "stalk_surface_above_ring     4\n",
       "stalk_surface_below_ring     4\n",
       "target                       2\n",
       "veil_color                   4\n",
       "veil_type                    1\n",
       "is_train                     2\n",
       "dtype: int64"
      ]
     },
     "execution_count": 205,
     "metadata": {},
     "output_type": "execute_result"
    }
   ],
   "source": [
    "df.nunique()\n",
    "#veil_type has only one unique value => useless"
   ]
  },
  {
   "cell_type": "code",
   "execution_count": 206,
   "metadata": {},
   "outputs": [
    {
     "data": {
      "image/png": "[encoded data removed]",
      "text/plain": [
       "<matplotlib.figure.Figure at 0x7f2917c5c6d8>"
      ]
     },
     "metadata": {},
     "output_type": "display_data"
    }
   ],
   "source": [
    "unique = df_train.nunique()\n",
    "fig = sns.barplot(x=unique.index, y=unique.values)\n",
    "for x in fig.get_xticklabels():\n",
    "    x.set_rotation(90) "
   ]
  },
  {
   "cell_type": "markdown",
   "metadata": {},
   "source": [
    "## 'veil_type' has only one unique value, so it is useless\n",
    "### ====================================================="
   ]
  },
  {
   "cell_type": "markdown",
   "metadata": {},
   "source": [
    "### Let's look at values frequency and distribution of features depend on target"
   ]
  },
  {
   "cell_type": "code",
   "execution_count": 207,
   "metadata": {
    "scrolled": true
   },
   "outputs": [
    {
     "name": "stdout",
     "output_type": "stream",
     "text": [
      "convex     0.450025\n",
      "flat       0.387986\n",
      "knobbed    0.101920\n",
      "bell       0.055638\n",
      "sunken     0.003939\n",
      "conical    0.000492\n",
      "Name: cap_shape, dtype: float64\n",
      "\n",
      "\n",
      "scaly      0.399311\n",
      "smooth     0.314623\n",
      "fibrous    0.285574\n",
      "grooves    0.000492\n",
      "Name: cap_surface, dtype: float64\n",
      "\n",
      "\n",
      "brown       0.281142\n",
      "gray        0.226489\n",
      "red         0.184638\n",
      "yellow      0.131955\n",
      "white       0.128016\n",
      "buff        0.020679\n",
      "pink        0.017725\n",
      "cinnamon    0.005416\n",
      "purple      0.001969\n",
      "green       0.001969\n",
      "Name: cap_color, dtype: float64\n",
      "\n",
      "\n",
      "no         0.584441\n",
      "bruises    0.415559\n",
      "Name: bruises, dtype: float64\n",
      "\n",
      "\n",
      "none        0.434269\n",
      "foul        0.265879\n",
      "spicy       0.070901\n",
      "fishy       0.070901\n",
      "almond      0.049237\n",
      "anise       0.049237\n",
      "pungent     0.031512\n",
      "creosote    0.023634\n",
      "musty       0.004431\n",
      "Name: odor, dtype: float64\n",
      "\n",
      "\n",
      "free        0.974151\n",
      "attached    0.025849\n",
      "Name: gill_attachment, dtype: float64\n",
      "\n",
      "\n",
      "close      0.838503\n",
      "crowded    0.161497\n",
      "Name: gill_spacing, dtype: float64\n",
      "\n",
      "\n",
      "broad     0.690793\n",
      "narrow    0.309207\n",
      "Name: gill_size, dtype: float64\n",
      "\n",
      "\n",
      "buff         0.212703\n",
      "pink         0.183653\n",
      "white        0.147957\n",
      "brown        0.129000\n",
      "gray         0.092565\n",
      "chocolate    0.090103\n",
      "purple       0.060561\n",
      "black        0.050222\n",
      "red          0.011817\n",
      "yellow       0.010586\n",
      "orange       0.007878\n",
      "green        0.002954\n",
      "Name: gill_color, dtype: float64\n",
      "\n",
      "\n",
      "tapering     0.567208\n",
      "enlarging    0.432792\n",
      "Name: stalk_shape, dtype: float64\n",
      "\n",
      "\n",
      "bulbous    0.464796\n",
      "missing    0.305268\n",
      "equal      0.137863\n",
      "club       0.068439\n",
      "rooted     0.023634\n",
      "Name: stalk_root, dtype: float64\n",
      "\n",
      "\n",
      "smooth     0.637125\n",
      "silky      0.291974\n",
      "fibrous    0.067947\n",
      "scaly      0.002954\n",
      "Name: stalk_surface_above_ring, dtype: float64\n",
      "\n",
      "\n",
      "smooth     0.607582\n",
      "silky      0.283604\n",
      "fibrous    0.073855\n",
      "scaly      0.034958\n",
      "Name: stalk_surface_below_ring, dtype: float64\n",
      "\n",
      "\n",
      "white       0.549483\n",
      "pink        0.230428\n",
      "gray        0.070901\n",
      "brown       0.055145\n",
      "buff        0.053176\n",
      "orange      0.023634\n",
      "red         0.011817\n",
      "cinnamon    0.004431\n",
      "yellow      0.000985\n",
      "Name: stalk_color_above_ring, dtype: float64\n",
      "\n",
      "\n",
      "white       0.539636\n",
      "pink        0.230428\n",
      "gray        0.070901\n",
      "brown       0.063023\n",
      "buff        0.053176\n",
      "orange      0.023634\n",
      "red         0.011817\n",
      "cinnamon    0.004431\n",
      "yellow      0.002954\n",
      "Name: stalk_color_below_ring, dtype: float64\n",
      "\n",
      "\n",
      "partial    1.0\n",
      "Name: veil_type, dtype: float64\n",
      "\n",
      "\n",
      "white     0.975382\n",
      "orange    0.011817\n",
      "brown     0.011817\n",
      "yellow    0.000985\n",
      "Name: veil_color, dtype: float64\n",
      "\n",
      "\n",
      "one     0.921713\n",
      "two     0.073855\n",
      "none    0.004431\n",
      "Name: ring_number, dtype: float64\n",
      "\n",
      "\n",
      "pendant       0.488429\n",
      "evanescent    0.341704\n",
      "large         0.159527\n",
      "flaring       0.005908\n",
      "none          0.004431\n",
      "Name: ring_type, dtype: float64\n",
      "\n",
      "\n",
      "white        0.293944\n",
      "brown        0.242245\n",
      "black        0.230428\n",
      "chocolate    0.200886\n",
      "green        0.008863\n",
      "purple       0.005908\n",
      "orange       0.005908\n",
      "yellow       0.005908\n",
      "buff         0.005908\n",
      "Name: spore_print_color, dtype: float64\n",
      "\n",
      "\n",
      "several      0.497292\n",
      "solitary     0.210734\n",
      "scattered    0.153619\n",
      "numerous     0.049237\n",
      "abundant     0.047267\n",
      "clustered    0.041851\n",
      "Name: population, dtype: float64\n",
      "\n",
      "\n",
      "woods      0.387494\n",
      "grasses    0.264402\n",
      "paths      0.140817\n",
      "leaves     0.102413\n",
      "urban      0.045298\n",
      "meadows    0.035943\n",
      "waste      0.023634\n",
      "Name: habitat, dtype: float64\n",
      "\n",
      "\n"
     ]
    }
   ],
   "source": [
    "columns = df_train.columns[1:]\n",
    "for column in columns:\n",
    "    print(df[column].value_counts(normalize=True), end=\"\\n\\n\\n\")\n",
    "# veil_color, gill_attachment - one of values has > 0.95 frequency."
   ]
  },
  {
   "cell_type": "code",
   "execution_count": 208,
   "metadata": {
    "scrolled": false
   },
   "outputs": [
    {
     "data": {
      "image/png": "[encoded data removed]",
      "text/plain": [
       "<matplotlib.figure.Figure at 0x7f2911ab8198>"
      ]
     },
     "metadata": {},
     "output_type": "display_data"
    }
   ],
   "source": [
    "fig, axes = plt.subplots(11,2, figsize=(18,100))\n",
    "for ax, column in zip(axes.flatten(), columns):\n",
    "    sns.countplot(data=df[df.is_train], x=column, hue='target', ax=ax, palette = 'deep')\n",
    "    ax.tick_params(axis = 'x', labelsize = 15, rotation=45)\n",
    "    ax.tick_params(axis = 'y', labelsize = 15)\n",
    "    #ax.legend_.remove()\n",
    "    ax.set_xlabel('')\n",
    "    ax.set_ylabel('')\n",
    "    ax.set_title(column, fontsize=20)\n",
    "    #handles, labels = ax.get_legend_handles_labels()\n",
    "    \n",
    "#fig.legend(handles, ['edible', 'toxic'],  fontsize = 36, loc=(0.4, 0.935), frameon=False)"
   ]
  },
  {
   "cell_type": "code",
   "execution_count": 209,
   "metadata": {},
   "outputs": [
    {
     "name": "stdout",
     "output_type": "stream",
     "text": [
      "target  cap_shape\n",
      "0.0     convex       0.444831\n",
      "        flat         0.396459\n",
      "        knobbed      0.138792\n",
      "        bell         0.017389\n",
      "        sunken       0.001581\n",
      "        conical      0.000948\n",
      "1.0     convex       0.453237\n",
      "        flat         0.386691\n",
      "        bell         0.094125\n",
      "        knobbed      0.060552\n",
      "        sunken       0.005396\n",
      "Name: cap_shape, dtype: float64\n",
      "\n",
      "\n",
      "target  cap_surface\n",
      "0.0     scaly          0.427758\n",
      "        smooth         0.361050\n",
      "        fibrous        0.210243\n",
      "        grooves        0.000948\n",
      "1.0     fibrous        0.362110\n",
      "        scaly          0.359712\n",
      "        smooth         0.278177\n",
      "Name: cap_surface, dtype: float64\n",
      "\n",
      "\n",
      "target  cap_color\n",
      "0.0     brown        0.268416\n",
      "        gray         0.211192\n",
      "        red          0.207082\n",
      "        yellow       0.165666\n",
      "        white        0.094847\n",
      "        buff         0.028770\n",
      "        pink         0.021815\n",
      "        cinnamon     0.002213\n",
      "1.0     brown        0.294964\n",
      "        gray         0.241607\n",
      "        white        0.163070\n",
      "        red          0.154376\n",
      "        yellow       0.104916\n",
      "        buff         0.014688\n",
      "        pink         0.011691\n",
      "        cinnamon     0.007194\n",
      "        purple       0.004197\n",
      "        green        0.003297\n",
      "Name: cap_color, dtype: float64\n",
      "\n",
      "\n",
      "target  bruises\n",
      "0.0     no         0.794183\n",
      "        bruises    0.205817\n",
      "1.0     bruises    0.620204\n",
      "        no         0.379796\n",
      "Name: bruises, dtype: float64\n",
      "\n",
      "\n",
      "target  odor    \n",
      "0.0     foul        0.503636\n",
      "        fishy       0.138476\n",
      "        spicy       0.130256\n",
      "        none        0.096744\n",
      "        pungent     0.061966\n",
      "        creosote    0.045526\n",
      "        almond      0.008852\n",
      "        musty       0.007904\n",
      "        anise       0.006639\n",
      "1.0     none        0.759592\n",
      "        anise       0.090228\n",
      "        almond      0.087230\n",
      "        foul        0.040168\n",
      "        spicy       0.007494\n",
      "        fishy       0.006894\n",
      "        pungent     0.004197\n",
      "        creosote    0.002998\n",
      "        musty       0.001199\n",
      "Name: odor, dtype: float64\n",
      "\n",
      "\n",
      "target  gill_attachment\n",
      "0.0     free               0.992096\n",
      "        attached           0.007904\n",
      "1.0     free               0.956235\n",
      "        attached           0.043765\n",
      "Name: gill_attachment, dtype: float64\n",
      "\n",
      "\n",
      "target  gill_spacing\n",
      "0.0     close           0.950047\n",
      "        crowded         0.049953\n",
      "1.0     close           0.726619\n",
      "        crowded         0.273381\n",
      "Name: gill_spacing, dtype: float64\n",
      "\n",
      "\n",
      "target  gill_size\n",
      "0.0     narrow       0.521657\n",
      "        broad        0.478343\n",
      "1.0     broad        0.901679\n",
      "        narrow       0.098321\n",
      "Name: gill_size, dtype: float64\n",
      "\n",
      "\n",
      "target  gill_color\n",
      "0.0     buff          0.396775\n",
      "        pink          0.165666\n",
      "        chocolate     0.128991\n",
      "        gray          0.126462\n",
      "        white         0.074613\n",
      "        brown         0.049004\n",
      "        purple        0.022763\n",
      "        black         0.019918\n",
      "        yellow        0.007272\n",
      "        green         0.006323\n",
      "        orange        0.001265\n",
      "        red           0.000948\n",
      "1.0     white         0.216127\n",
      "        brown         0.210731\n",
      "        pink          0.203237\n",
      "        purple        0.093825\n",
      "        black         0.082434\n",
      "        gray          0.059952\n",
      "        chocolate     0.056655\n",
      "        buff          0.028177\n",
      "        red           0.019484\n",
      "        orange        0.015588\n",
      "        yellow        0.013489\n",
      "        green         0.000300\n",
      "Name: gill_color, dtype: float64\n",
      "\n",
      "\n",
      "target  stalk_shape\n",
      "0.0     tapering       0.518811\n",
      "        enlarging      0.481189\n",
      "1.0     tapering       0.616607\n",
      "        enlarging      0.383393\n",
      "Name: stalk_shape, dtype: float64\n",
      "\n",
      "\n",
      "target  stalk_root\n",
      "0.0     bulbous       0.478027\n",
      "        missing       0.418590\n",
      "        equal         0.079671\n",
      "        club          0.020866\n",
      "        rooted        0.002845\n",
      "1.0     bulbous       0.458034\n",
      "        equal         0.200240\n",
      "        missing       0.185252\n",
      "        club          0.115408\n",
      "        rooted        0.041067\n",
      "Name: stalk_root, dtype: float64\n",
      "\n",
      "\n",
      "target  stalk_surface_above_ring\n",
      "0.0     silky                       0.520076\n",
      "        smooth                      0.435346\n",
      "        fibrous                     0.042681\n",
      "        scaly                       0.001897\n",
      "1.0     smooth                      0.833633\n",
      "        fibrous                     0.096223\n",
      "        silky                       0.066547\n",
      "        scaly                       0.003597\n",
      "Name: stalk_surface_above_ring, dtype: float64\n",
      "\n",
      "\n",
      "target  stalk_surface_below_ring\n",
      "0.0     silky                       0.502371\n",
      "        smooth                      0.433765\n",
      "        fibrous                     0.043629\n",
      "        scaly                       0.020234\n",
      "1.0     smooth                      0.775779\n",
      "        fibrous                     0.107914\n",
      "        silky                       0.070144\n",
      "        scaly                       0.046163\n",
      "Name: stalk_surface_below_ring, dtype: float64\n",
      "\n",
      "\n",
      "target  stalk_color_above_ring\n",
      "0.0     white                     0.463800\n",
      "        pink                      0.307619\n",
      "        brown                     0.102434\n",
      "        buff                      0.100537\n",
      "        gray                      0.010117\n",
      "        cinnamon                  0.007904\n",
      "        orange                    0.004110\n",
      "        yellow                    0.001897\n",
      "        red                       0.001581\n",
      "1.0     white                     0.635492\n",
      "        pink                      0.154676\n",
      "        gray                      0.127998\n",
      "        orange                    0.043465\n",
      "        red                       0.020983\n",
      "        brown                     0.009592\n",
      "        buff                      0.006595\n",
      "        cinnamon                  0.001199\n",
      "Name: stalk_color_above_ring, dtype: float64\n",
      "\n",
      "\n",
      "target  stalk_color_below_ring\n",
      "0.0     white                     0.453367\n",
      "        pink                      0.312994\n",
      "        brown                     0.106228\n",
      "        buff                      0.098008\n",
      "        gray                      0.009801\n",
      "        cinnamon                  0.007904\n",
      "        yellow                    0.006007\n",
      "        orange                    0.004110\n",
      "        red                       0.001581\n",
      "1.0     white                     0.627398\n",
      "        pink                      0.145384\n",
      "        gray                      0.130995\n",
      "        orange                    0.043465\n",
      "        brown                     0.021882\n",
      "        red                       0.020084\n",
      "        buff                      0.009293\n",
      "        cinnamon                  0.001199\n",
      "        yellow                    0.000300\n",
      "Name: stalk_color_below_ring, dtype: float64\n",
      "\n",
      "\n",
      "target  veil_type\n",
      "0.0     partial      1.0\n",
      "1.0     partial      1.0\n",
      "Name: veil_type, dtype: float64\n",
      "\n",
      "\n",
      "target  veil_color\n",
      "0.0     white         0.993993\n",
      "        brown         0.002845\n",
      "        yellow        0.001897\n",
      "        orange        0.001265\n",
      "1.0     white         0.956535\n",
      "        orange        0.024281\n",
      "        brown         0.019185\n",
      "Name: veil_color, dtype: float64\n",
      "\n",
      "\n",
      "target  ring_number\n",
      "0.0     one            0.963642\n",
      "        two            0.028454\n",
      "        none           0.007904\n",
      "1.0     one            0.884592\n",
      "        two            0.114209\n",
      "        none           0.001199\n",
      "Name: ring_number, dtype: float64\n",
      "\n",
      "\n",
      "target  ring_type \n",
      "0.0     evanescent    0.426178\n",
      "        large         0.303509\n",
      "        pendant       0.261777\n",
      "        none          0.007904\n",
      "        flaring       0.000632\n",
      "1.0     pendant       0.710731\n",
      "        evanescent    0.256295\n",
      "        large         0.021283\n",
      "        flaring       0.010492\n",
      "        none          0.001199\n",
      "Name: ring_type, dtype: float64\n",
      "\n",
      "\n",
      "target  spore_print_color\n",
      "0.0     white                0.428075\n",
      "        chocolate            0.376225\n",
      "        brown                0.087259\n",
      "        black                0.086943\n",
      "        green                0.017705\n",
      "        orange               0.001265\n",
      "        buff                 0.000948\n",
      "        purple               0.000948\n",
      "        yellow               0.000632\n",
      "1.0     brown                0.391787\n",
      "        black                0.372002\n",
      "        white                0.152878\n",
      "        chocolate            0.036871\n",
      "        orange               0.011391\n",
      "        buff                 0.011091\n",
      "        purple               0.011091\n",
      "        yellow               0.011091\n",
      "        green                0.001799\n",
      "Name: spore_print_color, dtype: float64\n",
      "\n",
      "\n",
      "target  population\n",
      "0.0     several       0.682896\n",
      "        solitary      0.177363\n",
      "        scattered     0.105280\n",
      "        clustered     0.016124\n",
      "        numerous      0.009801\n",
      "        abundant      0.008536\n",
      "1.0     several       0.314149\n",
      "        solitary      0.241607\n",
      "        scattered     0.204736\n",
      "        abundant      0.089029\n",
      "        numerous      0.086631\n",
      "        clustered     0.063849\n",
      "Name: population, dtype: float64\n",
      "\n",
      "\n",
      "target  habitat\n",
      "0.0     woods      0.329118\n",
      "        paths      0.240278\n",
      "        grasses    0.206450\n",
      "        leaves     0.139741\n",
      "        urban      0.067025\n",
      "        meadows    0.014543\n",
      "        waste      0.002845\n",
      "1.0     woods      0.436151\n",
      "        grasses    0.328537\n",
      "        leaves     0.062650\n",
      "        meadows    0.059952\n",
      "        paths      0.047962\n",
      "        waste      0.040767\n",
      "        urban      0.023981\n",
      "Name: habitat, dtype: float64\n",
      "\n",
      "\n"
     ]
    }
   ],
   "source": [
    "for column in columns:\n",
    "    print(df[df.is_train].groupby('target')[column].value_counts(normalize=True), end=\"\\n\\n\\n\")"
   ]
  },
  {
   "cell_type": "markdown",
   "metadata": {
    "ExecuteTime": {
     "end_time": "2018-03-01T16:27:41.214779Z",
     "start_time": "2018-03-01T16:27:41.199155Z"
    }
   },
   "source": [
    "#### 2.1 Are there any features, obviously redundant to train on? If yes - what are they and why it's better to remove them?"
   ]
  },
  {
   "cell_type": "code",
   "execution_count": 211,
   "metadata": {
    "ExecuteTime": {
     "end_time": "2018-03-01T19:13:18.881811Z",
     "start_time": "2018-03-01T19:13:18.866187Z"
    }
   },
   "outputs": [
    {
     "name": "stdout",
     "output_type": "stream",
     "text": [
      "(8124, 23)\n",
      "(8124, 23)\n"
     ]
    }
   ],
   "source": [
    "print(df.shape)\n",
    "# your code/hardcoded list goes here\n",
    "# ---------------------------------------------------------------\n",
    "redundant_columns = ['veil_type']\n",
    "# ---------------------------------------------------------------\n",
    "# lets drop these columns from joint dataset\n",
    "df = df.drop(redundant_columns, axis=1, errors='ignore')\n",
    "print(df.shape)"
   ]
  },
  {
   "cell_type": "markdown",
   "metadata": {},
   "source": [
    "####  2.2 How many features (excluding target variable and train/test indexing columns) are:\n",
    "- categorical (more than 2 unique values, no explicit ordering)\n",
    "- ordinal (more than 2 unique values, explicit ordering)\n",
    "- binary (2 unique values, doesn't matter whether it has ordering or is \"yes/no\" styled) "
   ]
  },
  {
   "cell_type": "code",
   "execution_count": 212,
   "metadata": {
    "ExecuteTime": {
     "end_time": "2018-03-01T19:13:18.903953Z",
     "start_time": "2018-03-01T19:13:18.883318Z"
    }
   },
   "outputs": [
    {
     "name": "stdout",
     "output_type": "stream",
     "text": [
      "categorical: 15\n",
      "ordinal: 1\n",
      "binary: 5\n"
     ]
    }
   ],
   "source": [
    "# your code goes here\n",
    "# ---------------------------------------------------------------\n",
    "ordinal_cols = sorted(['ring_number'])\n",
    "binary_cols = sorted(['bruises',\n",
    "                      'gill_size',\n",
    "                      'gill_spacing',\n",
    "                      'stalk_shape',\n",
    "                      'gill_attachment'])\n",
    "categorical_cols = sorted(['cap_color',\n",
    "                           'cap_shape',\n",
    "                           'cap_surface',\n",
    "                           'gill_color',\n",
    "                           'habitat',\n",
    "                           'odor',\n",
    "                           'ring_type',\n",
    "                           'spore_print_color',\n",
    "                           'stalk_color_above_ring',\n",
    "                           'stalk_color_below_ring',\n",
    "                           'stalk_root',\n",
    "                           'stalk_surface_above_ring',\n",
    "                           'stalk_surface_below_ring',\n",
    "                           'population',\n",
    "                           'veil_color'])\n",
    "# ---------------------------------------------------------------\n",
    "print('categorical: {}\\nordinal: {}\\nbinary: {}'.format(\n",
    "    len(categorical_cols), len(ordinal_cols), len(binary_cols)))"
   ]
  },
  {
   "cell_type": "code",
   "execution_count": 213,
   "metadata": {
    "ExecuteTime": {
     "end_time": "2018-03-01T19:13:19.066710Z",
     "start_time": "2018-03-01T19:13:18.903953Z"
    },
    "collapsed": true
   },
   "outputs": [],
   "source": [
    "# To be used in training, data must be properly encoded\n",
    "from collections import defaultdict\n",
    "\n",
    "# function to encode categorical data\n",
    "\n",
    "\n",
    "def __encode_categorical(df_list, cat_cols):\n",
    "    # initialize placeholder\n",
    "    d = defaultdict(LabelEncoder)\n",
    "    # fit and encode train/test,\n",
    "    codes = pd.concat(\n",
    "        [df[cat_cols] for df in df_list],\n",
    "        axis=0\n",
    "    ).fillna('').apply(\n",
    "        lambda x: d[x.name].fit(x)\n",
    "    ),\n",
    "    # transform encodings to train/test etc\n",
    "    for df in df_list:\n",
    "        df[cat_cols] = df[cat_cols].fillna('').apply(\n",
    "            lambda x: d[x.name].transform(x))\n",
    "\n",
    "\n",
    "# label encode data (categorical + binary)\n",
    "__encode_categorical(df_list=[df], cat_cols=categorical_cols+binary_cols)\n",
    "# make sure you encode the only ordinal column in correct order\n",
    "df[ordinal_cols[0]] = df[ordinal_cols[0]].map({'none': 0, 'one': 1, 'two': 2})\n",
    "\n",
    "# define useful feature columns to be used for training\n",
    "# (union of all columns discussed above)\n",
    "columns_to_use = ordinal_cols + binary_cols + categorical_cols"
   ]
  },
  {
   "cell_type": "markdown",
   "metadata": {
    "ExecuteTime": {
     "end_time": "2018-03-01T16:57:45.813108Z",
     "start_time": "2018-03-01T16:57:45.797483Z"
    }
   },
   "source": [
    "### Task 3. Prepare cross-validation strategy and perform comparison of 2 baseline models (linear vs tree-based)"
   ]
  },
  {
   "cell_type": "markdown",
   "metadata": {},
   "source": [
    "### =====================================================\n",
    "#### Briefly about Validation / Cross-Validation\n",
    "\n",
    "Learning the parameters of a prediction function and testing it on the same data is a methodological mistake: a model that would just repeat the labels of the samples that it has just seen would have a perfect score but **would fail to predict anything useful on yet-unseen data. This situation is called overfitting**. \n",
    "<br>To avoid it, it is common practice when performing a (supervised) machine learning experiment to hold out part of the available data as a test set ```X_test, y_test```. \n",
    "<br>Note that the word “experiment” is not intended to denote academic use only, because even in commercial settings machine learning usually starts out experimentally.\n",
    "\n",
    "When evaluating different settings (“hyperparameters”) for estimators, **there is still a risk of overfitting on the test set** because the parameters can be tweaked until the estimator performs optimally. \n",
    "<br>This way, knowledge about the test set can “leak” into the model and evaluation metrics no longer report on generalization performance. \n",
    "<br>To solve this problem, yet another part of the dataset can be held out as a so-called “validation set”: training proceeds on the training set, after which evaluation is done on the validation set, and when the experiment seems to be successful, final evaluation can be done on the test set.\n",
    "\n",
    "However, by partitioning the available data into three sets, **we drastically reduce the number of samples which can be used for learning the model, and the results can depend on a particular random choice for the pair of (train, validation) sets.**\n",
    "\n",
    "A solution to this problem is a procedure called **cross-validation (CV for short). A test set should still be held out for final evaluation, but the validation set is no longer needed when doing CV**. In the basic approach, called k-fold CV, the training set is split into k smaller sets (other approaches are described below, but generally follow the same principles). The following procedure is followed for each of the k “folds”:\n",
    "\n",
    "- A model is trained using k-1 of the folds as training data;\n",
    "- the resulting model is validated on the remaining part of the data \n",
    "<br>(i.e., it is used as a test set to compute a performance measure such as accuracy).\n",
    "        \n",
    "<img src=\"https://hsto.org/files/b1d/706/e6c/b1d706e6c9df49c297b6152878a2d03f.png\"/ style=\"width:75%\">\n",
    "\n",
    "The performance measure reported by k-fold cross-validation **is then the average of the values computed in the loop**. \n",
    "<br>This approach can be computationally expensive, but does not waste too much data (as it is the case when fixing an arbitrary test set), which is a major advantage in problem such as inverse inference where the number of samples is very small.\n",
    "\n",
    "\n",
    "Some classification problems can **exhibit a large imbalance in the distribution of the target classes: for instance there could be several times more negative samples than positive samples**. \n",
    "<br>In such cases it is recommended to use **stratified sampling** as implemented in sklearn's StratifiedKFold and StratifiedShuffleSplit to ensure that relative class frequencies is approximately preserved in each train and validation fold.\n",
    "\n",
    "More details about different cross-validation strategies, implemented in sklearn, can be found [here](http://scikit-learn.org/stable/modules/cross_validation.html)\n",
    "### ====================================================="
   ]
  },
  {
   "cell_type": "markdown",
   "metadata": {
    "ExecuteTime": {
     "end_time": "2018-03-01T16:57:45.813108Z",
     "start_time": "2018-03-01T16:57:45.797483Z"
    }
   },
   "source": [
    "Prepare KFold with 5 splits, stratified by target variable, shuffled, with fixed random_state = 42\n",
    "<br>**Don't forget to filter by column 'is_train'!**\n",
    "<br>Fit models on subset of features: [columns_to_use]"
   ]
  },
  {
   "cell_type": "code",
   "execution_count": 214,
   "metadata": {
    "ExecuteTime": {
     "end_time": "2018-03-01T19:13:23.353852Z",
     "start_time": "2018-03-01T19:13:19.066710Z"
    }
   },
   "outputs": [
    {
     "name": "stdout",
     "output_type": "stream",
     "text": [
      "DT scoring: 0.92\n",
      "LR scoring: 0.89\n"
     ]
    }
   ],
   "source": [
    "from os import cpu_count\n",
    "\n",
    "n_jobs = max(cpu_count()-1, 1)\n",
    "# your code goes here\n",
    "# ---------------------------------------------------------------\n",
    "# cross-validation iterator\n",
    "kf = StratifiedKFold(shuffle=True,\n",
    "                     random_state=42,\n",
    "                     n_splits=5)\n",
    "# xtrain, ytrain, DataFrame-like\n",
    "xtrain = df[df.is_train][columns_to_use]\n",
    "ytrain = df[df.is_train].target\n",
    "# ---------------------------------------------------------------\n",
    "\n",
    "# create Decision Tree with default params, max_depth=4, random_state=42\n",
    "dt = DecisionTreeClassifier(max_depth=4,\n",
    "                            random_state=42)\n",
    "\n",
    "# estimate its f1-score with cross-validation (cross_val_score)\n",
    "# your code goes here\n",
    "# ---------------------------------------------------------------\n",
    "scores_dt = cross_val_score(\n",
    "    estimator=dt,\n",
    "    X=xtrain, \n",
    "    y=ytrain, \n",
    "    scoring='f1', \n",
    "    cv=kf, # cross-validation strategy\n",
    "    n_jobs=n_jobs).mean()\n",
    "print('DT scoring: {:.2f}'.format(scores_dt))\n",
    "# ---------------------------------------------------------------\n",
    "\n",
    "\n",
    "# create Logistic Regression with default params, random_state=42\n",
    "lr = LogisticRegression(random_state=42)\n",
    "\n",
    "# estimate its f1-score with cross-validation\n",
    "# your code goes here\n",
    "# ---------------------------------------------------------------\n",
    "scores_lr = cross_val_score(\n",
    "    estimator=lr,\n",
    "    X=xtrain, \n",
    "    y=ytrain,\n",
    "    scoring='f1',\n",
    "    cv=kf,\n",
    "    n_jobs=n_jobs\n",
    ").mean()\n",
    "print('LR scoring: {:.2f}'.format(scores_lr))"
   ]
  },
  {
   "cell_type": "markdown",
   "metadata": {},
   "source": [
    "Why is a score of Linear Regression lower than correspondent one of DT?\n",
    "1. Is everything OK with the data format for linear models? (revision of 2 previous lectures). \n",
    "1. If not, what else you should do to use the data appropriately for linear models?\n",
    "1. Why didn't point 1. affect Decision Tree performance?"
   ]
  },
  {
   "cell_type": "raw",
   "metadata": {
    "ExecuteTime": {
     "end_time": "2018-03-01T17:07:09.097412Z",
     "start_time": "2018-03-01T17:07:09.081783Z"
    }
   },
   "source": [
    "---------------------------------------------------------\n",
    "your answer goes here\n",
    "---------------------------------------------------------\n",
    "1. No\n",
    "2. The integer values have a natural ordered relationship between each other and machine learning algorithms may be able to understand and harness this relationship. So, we should use one-hot encoding\n",
    "3. The answer is in implementation of decision tree: we just split all values of some feature into two parts and then split our objects: if feature of object takes an value that belongs to first part -> object belongs to first leaf. So we don`t need one-hot encoding here. And when we calculating IG or value of gini criterion we use probabilities: we don't need one-hot-encoding here too."
   ]
  },
  {
   "cell_type": "markdown",
   "metadata": {},
   "source": [
    "### Task 4. Now it's time to do some hyperparam tuning\n",
    "Perform suitable hyperparam tuning using created above cross-validation strategy\n",
    "<br>Main parameters to perform grid-search for:\n",
    "- max_depth (1,2,...None)\n",
    "- min_samples_leaf (1,2,...)\n",
    "- criterion (gini, entropy)\n",
    "- weight (none, balanced)\n",
    "- max_features (sqrt(features), 50%, 75%, all of them, ...)\n",
    "- other params available, see documentation\n",
    "\n",
    "So - use your fantasy for filling-in abovementioned lists\n",
    "\n",
    "You should receive **a gain of 0.01 in f1-score or higher**\n",
    "<br>(current benchmark = +0.0268 gain)"
   ]
  },
  {
   "cell_type": "markdown",
   "metadata": {},
   "source": [
    "## Decision tree  (first, but the best (find more downpage))"
   ]
  },
  {
   "cell_type": "code",
   "execution_count": 257,
   "metadata": {
    "ExecuteTime": {
     "end_time": "2018-03-01T19:13:36.468592Z",
     "start_time": "2018-03-01T19:13:23.353852Z"
    }
   },
   "outputs": [
    {
     "name": "stdout",
     "output_type": "stream",
     "text": [
      "Fitting 5 folds for each of 2400 candidates, totalling 12000 fits\n"
     ]
    },
    {
     "name": "stderr",
     "output_type": "stream",
     "text": [
      "[Parallel(n_jobs=3)]: Done 1038 tasks      | elapsed:    4.6s\n",
      "[Parallel(n_jobs=3)]: Done 5538 tasks      | elapsed:   28.1s\n",
      "[Parallel(n_jobs=3)]: Done 12000 out of 12000 | elapsed:  1.0min finished\n"
     ]
    },
    {
     "name": "stdout",
     "output_type": "stream",
     "text": [
      "f1-score best: 0.9282, +0.0106 better than baseline\n",
      "CPU times: user 9.26 s, sys: 302 ms, total: 9.56 s\n",
      "Wall time: 1min 3s\n"
     ]
    }
   ],
   "source": [
    "%%time\n",
    "# your code goes here\n",
    "# ---------------------------------------------------------------\n",
    "# create base model (DT, random state = 42)\n",
    "estimator = DecisionTreeClassifier(random_state=42, class_weight='balanced')\n",
    "# create parameter grid\n",
    "# http://scikit-learn.org/stable/modules/generated/sklearn.model_selection.GridSearchCV.html\n",
    "params = {\"max_depth\" : range(5,10),\n",
    "          \"min_samples_leaf\" :  range(5,8),\n",
    "          \"max_features\" : ('sqrt',4,6,8),\n",
    "          \"criterion\" : ('gini', 'entropy'),\n",
    "          \"presort\" : (True, False),\n",
    "          \"min_samples_split\" : range(2,22,2)\n",
    "         }\n",
    "\n",
    "# create grid search object\n",
    "gs = GridSearchCV(\n",
    "    estimator=estimator,  # base model\n",
    "    param_grid=params,  # params grid to search within\n",
    "    cv=kf,  # cross-validation strategy\n",
    "    error_score=1,  # warnings only\n",
    "    scoring='f1',  # f1-score\n",
    "    # thread count, the higher count - the faster\n",
    "    n_jobs=n_jobs,\n",
    "    verbose=1,  # messages about performed actions\n",
    ")\n",
    "\n",
    "# perform grid search on TRAIN dataset ('is_train' filtering)\n",
    "gs.fit(\n",
    "    X=xtrain, \n",
    "    y=ytrain, \n",
    ")\n",
    "# -------------------------------------------------------------\n",
    "# extract best score on cross-validation\n",
    "best_score = gs.best_score_\n",
    "# extract the estimator (DT) with best params on cross-validation\n",
    "best_dt = gs.best_estimator_\n",
    "# check gain in f1-score\n",
    "print('f1-score best: {:.4f}, +{:.4f} better than baseline'.format(\n",
    "    best_score, (best_score - scores_dt))\n",
    ")"
   ]
  },
  {
   "cell_type": "code",
   "execution_count": 258,
   "metadata": {
    "ExecuteTime": {
     "end_time": "2018-03-01T19:13:36.484218Z",
     "start_time": "2018-03-01T19:13:36.468592Z"
    }
   },
   "outputs": [
    {
     "data": {
      "text/plain": [
       "DecisionTreeClassifier(class_weight='balanced', criterion='gini', max_depth=9,\n",
       "            max_features=8, max_leaf_nodes=None, min_impurity_decrease=0.0,\n",
       "            min_impurity_split=None, min_samples_leaf=5,\n",
       "            min_samples_split=2, min_weight_fraction_leaf=0.0,\n",
       "            presort=False, random_state=42, splitter='best')"
      ]
     },
     "execution_count": 258,
     "metadata": {},
     "output_type": "execute_result"
    }
   ],
   "source": [
    "# take a look on the best model, compare with the baseline\n",
    "best_dt"
   ]
  },
  {
   "cell_type": "code",
   "execution_count": 287,
   "metadata": {
    "ExecuteTime": {
     "end_time": "2018-03-01T19:13:36.515467Z",
     "start_time": "2018-03-01T19:13:36.484218Z"
    },
    "scrolled": true
   },
   "outputs": [
    {
     "name": "stdout",
     "output_type": "stream",
     "text": [
      "Base on train:   0.9176\n",
      "Base on holdout: 0.9050\n",
      "diff: 0.0126\n",
      "\n",
      "Best on train:   0.9282\n",
      "Best on holdout: 0.9205\n",
      "diff: 0.0077\n"
     ]
    }
   ],
   "source": [
    "# check performance on holdout dataset, unseen before (filter 'is_train' == False)\n",
    "\n",
    "# your code goes here\n",
    "# ---------------------------------------------------------------\n",
    "# appropriate df_test data subset from 'df' dataframe\n",
    "xtest = df[df.is_train == False][columns_to_use]\n",
    "# fit baseline model 'dt' on xtrain, ytrain (because it's not fitted yet)\n",
    "dt.fit(xtrain, ytrain)\n",
    "# ---------------------------------------------------------------\n",
    "\n",
    "# baseline model\n",
    "y_true = pd.read_csv(pjoin(DATA_DIR, '4-mushrooms-y_test.csv'))\n",
    "y_pred_baseline = dt.predict(xtest)\n",
    "\n",
    "print('Base on train:   {:.4f}\\nBase on holdout: {:.4f}\\ndiff: {:.4f}'.format(\n",
    "    scores_dt, \n",
    "    f1_score(y_true, y_pred_baseline),\n",
    "    scores_dt - f1_score(y_true, y_pred_baseline)\n",
    "))\n",
    "\n",
    "# best model\n",
    "y_pred_best = best_dt.predict(xtest)\n",
    "\n",
    "print('\\nBest on train:   {:.4f}\\nBest on holdout: {:.4f}\\ndiff: {:.4f}'.format(\n",
    "    best_score, \n",
    "    f1_score(y_true, y_pred_best),\n",
    "    best_score - f1_score(y_true, y_pred_best)\n",
    "))\n",
    "f1_score_dt = f1_score(y_true, y_pred_best)"
   ]
  },
  {
   "cell_type": "markdown",
   "metadata": {},
   "source": [
    "Now you can see that \n",
    "<br>**absolute values of f1-score is higher and distance between train|holdout is lower** <br>for **best model** in comparison to **baseline**"
   ]
  },
  {
   "cell_type": "markdown",
   "metadata": {},
   "source": [
    "# Trying to improve"
   ]
  },
  {
   "cell_type": "markdown",
   "metadata": {},
   "source": [
    "## Deeper feature selection (finding features that we can drop, but it is not OBVIOUSLY)"
   ]
  },
  {
   "cell_type": "markdown",
   "metadata": {},
   "source": [
    "### SelectFromModel (bad transform) -> bad try"
   ]
  },
  {
   "cell_type": "code",
   "execution_count": 218,
   "metadata": {},
   "outputs": [
    {
     "name": "stdout",
     "output_type": "stream",
     "text": [
      "DT scoring(x transformed): 0.8909\n",
      "DT scoring(usual x): 0.9176\n"
     ]
    }
   ],
   "source": [
    "#just for me\n",
    "#why?\n",
    "\n",
    "from sklearn.feature_selection import SelectFromModel\n",
    "\n",
    "sfm = SelectFromModel(estimator=DecisionTreeClassifier(random_state=42, max_depth=4))\n",
    "x_new = sfm.fit_transform(xtrain, ytrain)\n",
    "\n",
    "scores_dt_sfm = cross_val_score(\n",
    "    estimator=dt,\n",
    "    X=x_new, \n",
    "    y=ytrain, \n",
    "    scoring='f1', \n",
    "    cv=kf, # cross-validation strategy\n",
    "    n_jobs=-1).mean()\n",
    "print('DT scoring(x transformed): {:.4f}'.format(scores_dt_sfm))\n",
    "\n",
    "print('DT scoring(usual x): {:.4f}'.format(scores_dt))"
   ]
  },
  {
   "cell_type": "markdown",
   "metadata": {},
   "source": [
    "### Exploratory"
   ]
  },
  {
   "cell_type": "code",
   "execution_count": 196,
   "metadata": {},
   "outputs": [
    {
     "name": "stdout",
     "output_type": "stream",
     "text": [
      "without  ring_number\n",
      "DT scoring: 0.9140\n",
      "without  bruises\n",
      "DT scoring: 0.9176\n",
      "without  gill_attachment\n",
      "DT scoring: 0.9176\n",
      "without  gill_size\n",
      "DT scoring: 0.9216\n",
      "without  gill_spacing\n",
      "DT scoring: 0.9140\n",
      "without  stalk_shape\n",
      "DT scoring: 0.9176\n",
      "without  cap_color\n",
      "DT scoring: 0.9176\n",
      "without  cap_shape\n",
      "DT scoring: 0.9176\n",
      "without  cap_surface\n",
      "DT scoring: 0.9168\n",
      "without  gill_color\n",
      "DT scoring: 0.9176\n",
      "without  habitat\n",
      "DT scoring: 0.9176\n",
      "without  odor\n",
      "DT scoring: 0.9176\n",
      "without  population\n",
      "DT scoring: 0.9145\n",
      "without  ring_type\n",
      "DT scoring: 0.9176\n",
      "without  spore_print_color\n",
      "DT scoring: 0.9192\n",
      "without  stalk_color_above_ring\n",
      "DT scoring: 0.9176\n",
      "without  stalk_color_below_ring\n",
      "DT scoring: 0.9176\n",
      "without  stalk_root\n",
      "DT scoring: 0.9176\n",
      "without  stalk_surface_above_ring\n",
      "DT scoring: 0.9176\n",
      "without  stalk_surface_below_ring\n",
      "DT scoring: 0.9176\n",
      "without  veil_color\n",
      "DT scoring: 0.9175\n"
     ]
    }
   ],
   "source": [
    "scores_val = []\n",
    "for column in columns_to_use:\n",
    "    print(\"without \", column) \n",
    "    columns_to_use_temp = [x for x in columns_to_use if x != column]\n",
    "    n_jobs = max(cpu_count()-1, 1)\n",
    "    xtrain = df[df.is_train][columns_to_use_temp]\n",
    "    ytrain = df[df.is_train].target\n",
    "    \n",
    "    \n",
    "    dt = DecisionTreeClassifier(max_depth=4,\n",
    "                                random_state=42)\n",
    "\n",
    "    scores_dt_without = cross_val_score(\n",
    "        estimator=dt,\n",
    "        X=xtrain, \n",
    "        y=ytrain, \n",
    "        scoring='f1', \n",
    "        cv=kf, \n",
    "        n_jobs=n_jobs).mean()\n",
    "    print('DT scoring: {:.4f}'.format(scores_dt_without))\n",
    "    scores_val.append(scores_dt_without)\n",
    "scores = dict(zip(columns_to_use, scores_val))\n",
    "scores['base'] = scores_dt"
   ]
  },
  {
   "cell_type": "code",
   "execution_count": 179,
   "metadata": {},
   "outputs": [
    {
     "data": {
      "text/plain": [
       "{'base': 0.91763554654535873,\n",
       " 'bruises': 0.91763554654535873,\n",
       " 'cap_color': 0.91763554654535873,\n",
       " 'cap_shape': 0.91763554654535873,\n",
       " 'cap_surface': 0.9168145276054972,\n",
       " 'gill_attachment': 0.91763554654535873,\n",
       " 'gill_color': 0.91763554654535873,\n",
       " 'gill_size': 0.92160474023431538,\n",
       " 'gill_spacing': 0.91396032432038565,\n",
       " 'habitat': 0.91763554654535873,\n",
       " 'odor': 0.91763554654535873,\n",
       " 'population': 0.91454011223981035,\n",
       " 'ring_number': 0.91401606395860513,\n",
       " 'ring_type': 0.91763554654535873,\n",
       " 'spore_print_color': 0.91917859066152663,\n",
       " 'stalk_color_above_ring': 0.91763554654535873,\n",
       " 'stalk_color_below_ring': 0.91763554654535873,\n",
       " 'stalk_root': 0.91763554654535873,\n",
       " 'stalk_shape': 0.91763554654535873,\n",
       " 'stalk_surface_above_ring': 0.91763554654535873,\n",
       " 'stalk_surface_below_ring': 0.91763554654535873,\n",
       " 'veil_color': 0.91749553117781846}"
      ]
     },
     "execution_count": 179,
     "metadata": {},
     "output_type": "execute_result"
    }
   ],
   "source": [
    "scores"
   ]
  },
  {
   "cell_type": "code",
   "execution_count": 219,
   "metadata": {},
   "outputs": [],
   "source": [
    "ordinal_cols_new = sorted(['ring_number'])\n",
    "binary_cols_new = sorted(['gill_spacing'])\n",
    "categorical_cols_new = sorted(['cap_surface',\n",
    "                               'gill_color',\n",
    "                               'habitat',\n",
    "                               'odor',\n",
    "                               'spore_print_color',\n",
    "                               'population',\n",
    "                               'veil_color'])\n",
    "columns_to_use_new = ordinal_cols_new + categorical_cols_new + binary_cols_new\n",
    "\n",
    "xtrain_preselect = xtrain[columns_to_use_new]\n",
    "xtest_preselect = xtest[columns_to_use_new]"
   ]
  },
  {
   "cell_type": "markdown",
   "metadata": {},
   "source": [
    "## One-hot encoding"
   ]
  },
  {
   "cell_type": "code",
   "execution_count": 220,
   "metadata": {},
   "outputs": [],
   "source": [
    "enc_train = pd.get_dummies(df_train[categorical_cols])\n",
    "enc_test =  pd.get_dummies(df_test[categorical_cols])\n",
    "\n",
    "X_onehot_train = pd.concat([df[df.is_train][ordinal_cols+binary_cols], \n",
    "                       enc_train], \n",
    "                       axis=1, \n",
    "                       join_axes=[df[df.is_train].index])\n",
    "X_onehot_test = pd.concat([df[df.is_train == False][ordinal_cols+binary_cols], \n",
    "                       enc_test], \n",
    "                       axis=1, \n",
    "                       join_axes=[df[df.is_train == False].index])"
   ]
  },
  {
   "cell_type": "markdown",
   "metadata": {},
   "source": [
    "## All-in-one-method"
   ]
  },
  {
   "cell_type": "code",
   "execution_count": 227,
   "metadata": {},
   "outputs": [],
   "source": [
    "def calculate(model, parameters, X_train, X_test, y_train, ytrue):\n",
    "    \n",
    "    gs = GridSearchCV(\n",
    "    estimator=model,\n",
    "    param_grid=parameters, \n",
    "    cv=kf, \n",
    "    error_score=1,  \n",
    "    scoring='f1',  \n",
    "    n_jobs=3,\n",
    "    verbose=1)\n",
    "\n",
    "    gs.fit(X=X_train, y=y_train)\n",
    "\n",
    "    \n",
    "    best_score = gs.best_score_\n",
    "    best_model = gs.best_estimator_\n",
    "    \n",
    "    print('f1-score best: {:.4f}, +{:.4f} better than baseline'.format(best_score, (best_score - scores_dt)))\n",
    "    \n",
    "    print('Base on train:   {:.4f}\\nBase on holdout: {:.4f}\\ndiff: {:.4f}'.format(\n",
    "        scores_dt, \n",
    "        f1_score(ytrue, y_pred_baseline),\n",
    "        scores_dt - f1_score(ytrue, y_pred_baseline)\n",
    "    ))\n",
    "\n",
    "    # best model\n",
    "    y_pred_best = best_model.predict(X_test)\n",
    "\n",
    "    print('\\nBest on train:   {:.4f}\\nBest on holdout: {:.4f}\\ndiff: {:.4f}'.format(\n",
    "        best_score, \n",
    "        f1_score(ytrue, y_pred_best),\n",
    "        best_score - f1_score(ytrue, y_pred_best)\n",
    "    ))\n",
    "    return best_model, best_score, f1_score(ytrue, y_pred_best)\n"
   ]
  },
  {
   "cell_type": "markdown",
   "metadata": {},
   "source": [
    "## XGBoost"
   ]
  },
  {
   "cell_type": "code",
   "execution_count": 222,
   "metadata": {},
   "outputs": [
    {
     "name": "stdout",
     "output_type": "stream",
     "text": [
      "Fitting 5 folds for each of 216 candidates, totalling 1080 fits\n"
     ]
    },
    {
     "name": "stderr",
     "output_type": "stream",
     "text": [
      "[Parallel(n_jobs=3)]: Done 158 tasks      | elapsed:    7.1s\n",
      "[Parallel(n_jobs=3)]: Done 758 tasks      | elapsed:   22.4s\n"
     ]
    },
    {
     "name": "stdout",
     "output_type": "stream",
     "text": [
      "f1-score best: 0.9280, +0.0104 better than baseline\n",
      "Base on train:   0.9176\n",
      "Base on holdout: 0.9050\n",
      "diff: 0.0126\n",
      "\n",
      "Best on train:   0.9280\n",
      "Best on holdout: 0.9205\n",
      "diff: 0.0075\n"
     ]
    },
    {
     "name": "stderr",
     "output_type": "stream",
     "text": [
      "[Parallel(n_jobs=3)]: Done 1080 out of 1080 | elapsed:   40.3s finished\n"
     ]
    }
   ],
   "source": [
    "from xgboost import XGBClassifier\n",
    "\n",
    "\n",
    "params_xgb = {\n",
    "    \"max_depth\" : (5,10,15),\n",
    "    \"learning_rate\" : np.linspace(0.1,0.5,num=8),\n",
    "    \"n_estimators\" : (5,10,20),\n",
    "    \"booster\" : ('gbtree', 'gblinear', 'dart')\n",
    "}\n",
    "\n",
    "xgb = XGBClassifier(random_state=42)\n",
    "best_xgb, best_score_xgb, f1_score_xgb = calculate(xgb, params_xgb, xtrain,xtest,ytrain, y_true)\n"
   ]
  },
  {
   "cell_type": "markdown",
   "metadata": {},
   "source": [
    "### With one-hot encoding"
   ]
  },
  {
   "cell_type": "code",
   "execution_count": 234,
   "metadata": {},
   "outputs": [
    {
     "name": "stdout",
     "output_type": "stream",
     "text": [
      "Fitting 5 folds for each of 144 candidates, totalling 720 fits\n"
     ]
    },
    {
     "name": "stderr",
     "output_type": "stream",
     "text": [
      "[Parallel(n_jobs=3)]: Done  44 tasks      | elapsed:   16.0s\n",
      "[Parallel(n_jobs=3)]: Done 194 tasks      | elapsed:  1.4min\n",
      "[Parallel(n_jobs=3)]: Done 444 tasks      | elapsed:  2.0min\n",
      "[Parallel(n_jobs=3)]: Done 720 out of 720 | elapsed:  4.2min finished\n"
     ]
    },
    {
     "name": "stdout",
     "output_type": "stream",
     "text": [
      "f1-score best: 0.9282, +0.0105 better than baseline\n",
      "Base on train:   0.9176\n",
      "Base on holdout: 0.9050\n",
      "diff: 0.0126\n",
      "\n",
      "Best on train:   0.9282\n",
      "Best on holdout: 0.9205\n",
      "diff: 0.0077\n"
     ]
    }
   ],
   "source": [
    "params_xgb_onehot = {\n",
    "    \"max_depth\" : (5,10,15),\n",
    "    \"learning_rate\" : np.linspace(0.4,0.8,num=8),\n",
    "    \"n_estimators\" : (30,35),\n",
    "    \"booster\" : ('gbtree', 'gblinear', 'dart')\n",
    "}\n",
    "best_xgb_one_hot, best_score_xgb_one_hot, f1_score_xgb_onehot = calculate(xgb, params_xgb_onehot, X_onehot_train,\n",
    "                                                                          X_onehot_test, ytrain, y_true)"
   ]
  },
  {
   "cell_type": "code",
   "execution_count": 235,
   "metadata": {},
   "outputs": [
    {
     "data": {
      "text/plain": [
       "XGBClassifier(base_score=0.5, booster='gblinear', colsample_bylevel=1,\n",
       "       colsample_bytree=1, gamma=0, learning_rate=0.74285714285714288,\n",
       "       max_delta_step=0, max_depth=5, min_child_weight=1, missing=None,\n",
       "       n_estimators=35, n_jobs=1, nthread=None,\n",
       "       objective='binary:logistic', random_state=42, reg_alpha=0,\n",
       "       reg_lambda=1, scale_pos_weight=1, seed=None, silent=True,\n",
       "       subsample=1)"
      ]
     },
     "execution_count": 235,
     "metadata": {},
     "output_type": "execute_result"
    }
   ],
   "source": [
    "best_xgb_one_hot"
   ]
  },
  {
   "cell_type": "markdown",
   "metadata": {},
   "source": [
    "### With preselect"
   ]
  },
  {
   "cell_type": "code",
   "execution_count": 231,
   "metadata": {},
   "outputs": [
    {
     "name": "stdout",
     "output_type": "stream",
     "text": [
      "Fitting 5 folds for each of 216 candidates, totalling 1080 fits\n"
     ]
    },
    {
     "name": "stderr",
     "output_type": "stream",
     "text": [
      "[Parallel(n_jobs=3)]: Done 234 tasks      | elapsed:    4.8s\n",
      "[Parallel(n_jobs=3)]: Done 1080 out of 1080 | elapsed:   19.3s finished\n"
     ]
    },
    {
     "name": "stdout",
     "output_type": "stream",
     "text": [
      "f1-score best: 0.9280, +0.0104 better than baseline\n",
      "Base on train:   0.9176\n",
      "Base on holdout: 0.9050\n",
      "diff: 0.0126\n",
      "\n",
      "Best on train:   0.9280\n",
      "Best on holdout: 0.9205\n",
      "diff: 0.0075\n"
     ]
    }
   ],
   "source": [
    "best_xgb_preselect, best_score_xgb_preselect, f1_score_preselect = calculate(xgb, params_xgb, xtrain_preselect,\n",
    "                                                                          xtest_preselect, ytrain, y_true)"
   ]
  },
  {
   "cell_type": "markdown",
   "metadata": {},
   "source": [
    "## KNN"
   ]
  },
  {
   "cell_type": "code",
   "execution_count": 278,
   "metadata": {},
   "outputs": [
    {
     "name": "stdout",
     "output_type": "stream",
     "text": [
      "Fitting 5 folds for each of 90 candidates, totalling 450 fits\n"
     ]
    },
    {
     "name": "stderr",
     "output_type": "stream",
     "text": [
      "[Parallel(n_jobs=3)]: Done  44 tasks      | elapsed:   10.0s\n",
      "[Parallel(n_jobs=3)]: Done 194 tasks      | elapsed:   40.0s\n",
      "[Parallel(n_jobs=3)]: Done 444 tasks      | elapsed:  1.8min\n",
      "[Parallel(n_jobs=3)]: Done 450 out of 450 | elapsed:  1.9min finished\n"
     ]
    },
    {
     "name": "stdout",
     "output_type": "stream",
     "text": [
      "f1-score best: 0.9277, +0.0101 better than baseline\n",
      "Base on train:   0.9176\n",
      "Base on holdout: 0.9050\n",
      "diff: 0.0126\n",
      "\n",
      "Best on train:   0.9277\n",
      "Best on holdout: 0.9199\n",
      "diff: 0.0078\n"
     ]
    }
   ],
   "source": [
    "from sklearn.neighbors import KNeighborsClassifier\n",
    "\n",
    "params_knn = {'n_neighbors': (9, 10, 11, 12, 13), \n",
    "              'algorithm': ('ball_tree', 'kd_tree', 'brute'),\n",
    "              'leaf_size': (25,27,30),\n",
    "              'p':(1, 2)}\n",
    "\n",
    "knn = KNeighborsClassifier(weights='distance')\n",
    "\n",
    "best_knn, best_score_knn, f1_score_knn_holdout = calculate(knn, params_knn, xtrain,xtest,ytrain, y_true)"
   ]
  },
  {
   "cell_type": "markdown",
   "metadata": {},
   "source": [
    "### With one-hot"
   ]
  },
  {
   "cell_type": "code",
   "execution_count": 286,
   "metadata": {},
   "outputs": [
    {
     "name": "stdout",
     "output_type": "stream",
     "text": [
      "Fitting 5 folds for each of 36 candidates, totalling 180 fits\n"
     ]
    },
    {
     "name": "stderr",
     "output_type": "stream",
     "text": [
      "[Parallel(n_jobs=3)]: Done  44 tasks      | elapsed:  1.6min\n",
      "[Parallel(n_jobs=3)]: Done 180 out of 180 | elapsed:  5.3min finished\n"
     ]
    },
    {
     "name": "stdout",
     "output_type": "stream",
     "text": [
      "f1-score best: 0.9280, +0.0104 better than baseline\n",
      "Base on train:   0.9176\n",
      "Base on holdout: 0.9050\n",
      "diff: 0.0126\n",
      "\n",
      "Best on train:   0.9280\n",
      "Best on holdout: 0.9205\n",
      "diff: 0.0075\n"
     ]
    }
   ],
   "source": [
    "params_knn_onehot = {'n_neighbors': (5,10), \n",
    "              'algorithm': ('ball_tree', 'kd_tree', 'brute'),\n",
    "              'leaf_size': (25,27,30),\n",
    "              'p':(1, 2)}\n",
    "best_knn_onehot, best_score_knn_onehot, f1_score_knn_holdout_onehot = calculate(knn, params_knn_onehot, X_onehot_train,\n",
    "                                                                               X_onehot_test,ytrain, y_true)"
   ]
  },
  {
   "cell_type": "markdown",
   "metadata": {},
   "source": [
    "## SVC"
   ]
  },
  {
   "cell_type": "code",
   "execution_count": 253,
   "metadata": {},
   "outputs": [
    {
     "name": "stdout",
     "output_type": "stream",
     "text": [
      "Fitting 5 folds for each of 20 candidates, totalling 100 fits\n"
     ]
    },
    {
     "name": "stderr",
     "output_type": "stream",
     "text": [
      "[Parallel(n_jobs=3)]: Done  44 tasks      | elapsed:   37.1s\n",
      "[Parallel(n_jobs=3)]: Done 100 out of 100 | elapsed:  1.5min finished\n"
     ]
    },
    {
     "name": "stdout",
     "output_type": "stream",
     "text": [
      "f1-score best: 0.9280, +0.0104 better than baseline\n",
      "Base on train:   0.9176\n",
      "Base on holdout: 0.9050\n",
      "diff: 0.0126\n",
      "\n",
      "Best on train:   0.9280\n",
      "Best on holdout: 0.9205\n",
      "diff: 0.0075\n"
     ]
    }
   ],
   "source": [
    "from sklearn.svm import SVC\n",
    "\n",
    "\n",
    "params_svc = {'gamma': (0.001, 0.01, 0.1, 1),\n",
    "               'C': (1, 2, 3, 5, 7)}\n",
    "\n",
    "svc = SVC(random_state=42, kernel = 'rbf')\n",
    "\n",
    "best_svc, best_score_svc, f1_score_svc_holdout = calculate(svc, params_svc, xtrain,xtest,ytrain, y_true)"
   ]
  },
  {
   "cell_type": "markdown",
   "metadata": {},
   "source": [
    "### With one-hot encoding"
   ]
  },
  {
   "cell_type": "code",
   "execution_count": 261,
   "metadata": {},
   "outputs": [
    {
     "name": "stdout",
     "output_type": "stream",
     "text": [
      "Fitting 5 folds for each of 20 candidates, totalling 100 fits\n"
     ]
    },
    {
     "name": "stderr",
     "output_type": "stream",
     "text": [
      "[Parallel(n_jobs=3)]: Done  44 tasks      | elapsed:  1.7min\n",
      "[Parallel(n_jobs=3)]: Done 100 out of 100 | elapsed:  4.1min finished\n"
     ]
    },
    {
     "name": "stdout",
     "output_type": "stream",
     "text": [
      "f1-score best: 0.9279, +0.0102 better than baseline\n",
      "Base on train:   0.9176\n",
      "Base on holdout: 0.9050\n",
      "diff: 0.0126\n",
      "\n",
      "Best on train:   0.9279\n",
      "Best on holdout: 0.9205\n",
      "diff: 0.0074\n"
     ]
    }
   ],
   "source": [
    "best_svc_onehot, best_score_svc_onehot, f1_score_svc_holdout_onehot = calculate(svc, params_svc, X_onehot_train,\n",
    "                                                                                X_onehot_test,ytrain, y_true)"
   ]
  },
  {
   "cell_type": "markdown",
   "metadata": {},
   "source": [
    "### With preselecting"
   ]
  },
  {
   "cell_type": "code",
   "execution_count": 262,
   "metadata": {},
   "outputs": [
    {
     "name": "stdout",
     "output_type": "stream",
     "text": [
      "Fitting 5 folds for each of 20 candidates, totalling 100 fits\n"
     ]
    },
    {
     "name": "stderr",
     "output_type": "stream",
     "text": [
      "[Parallel(n_jobs=3)]: Done  44 tasks      | elapsed:   18.1s\n",
      "[Parallel(n_jobs=3)]: Done 100 out of 100 | elapsed:   38.0s finished\n"
     ]
    },
    {
     "name": "stdout",
     "output_type": "stream",
     "text": [
      "f1-score best: 0.9280, +0.0104 better than baseline\n",
      "Base on train:   0.9176\n",
      "Base on holdout: 0.9050\n",
      "diff: 0.0126\n",
      "\n",
      "Best on train:   0.9280\n",
      "Best on holdout: 0.9205\n",
      "diff: 0.0075\n"
     ]
    }
   ],
   "source": [
    "best_svc_preselect, best_score_svc_preselect, f1_score_svc_holdout_preselect = calculate(svc, params_svc, xtrain_preselect,\n",
    "                                                                               xtest_preselect,ytrain, y_true)"
   ]
  },
  {
   "cell_type": "markdown",
   "metadata": {},
   "source": [
    "## Random Forest"
   ]
  },
  {
   "cell_type": "code",
   "execution_count": 291,
   "metadata": {},
   "outputs": [
    {
     "name": "stdout",
     "output_type": "stream",
     "text": [
      "Fitting 5 folds for each of 108 candidates, totalling 540 fits\n"
     ]
    },
    {
     "name": "stderr",
     "output_type": "stream",
     "text": [
      "[Parallel(n_jobs=3)]: Done  44 tasks      | elapsed:   15.6s\n",
      "[Parallel(n_jobs=3)]: Done 194 tasks      | elapsed:  1.6min\n",
      "[Parallel(n_jobs=3)]: Done 444 tasks      | elapsed:  3.8min\n",
      "[Parallel(n_jobs=3)]: Done 540 out of 540 | elapsed:  4.9min finished\n"
     ]
    },
    {
     "name": "stdout",
     "output_type": "stream",
     "text": [
      "f1-score best: 0.9280, +0.0104 better than baseline\n",
      "Base on train:   0.9176\n",
      "Base on holdout: 0.9050\n",
      "diff: 0.0126\n",
      "\n",
      "Best on train:   0.9280\n",
      "Best on holdout: 0.9205\n",
      "diff: 0.0075\n"
     ]
    }
   ],
   "source": [
    "from sklearn.ensemble import RandomForestClassifier\n",
    "\n",
    "params_rf = {\"max_depth\" : (6,8,None),\n",
    "              \"min_samples_leaf\" :  range(5,8),\n",
    "              \"max_features\" : (9,21),\n",
    "              \"criterion\" : ('gini', 'entropy'),\n",
    "            \"n_estimators\": (100, 250,300)}\n",
    "\n",
    "rf = RandomForestClassifier(random_state=42)\n",
    "\n",
    "best_rf, best_score_rf, f1_score_rf = calculate(rf, params_rf, xtrain,xtest,ytrain, y_true)"
   ]
  },
  {
   "cell_type": "markdown",
   "metadata": {},
   "source": [
    "## Bagging"
   ]
  },
  {
   "cell_type": "code",
   "execution_count": 270,
   "metadata": {},
   "outputs": [
    {
     "name": "stdout",
     "output_type": "stream",
     "text": [
      "Fitting 5 folds for each of 6 candidates, totalling 30 fits\n",
      "f1-score best: 0.9280, +0.0104 better than baseline\n",
      "Base on train:   0.9176\n",
      "Base on holdout: 0.9050\n",
      "diff: 0.0126\n",
      "\n",
      "Best on train:   0.9280\n",
      "Best on holdout: 0.9205\n",
      "diff: 0.0075\n"
     ]
    },
    {
     "name": "stderr",
     "output_type": "stream",
     "text": [
      "[Parallel(n_jobs=3)]: Done  30 out of  30 | elapsed:    1.1s finished\n"
     ]
    }
   ],
   "source": [
    "from sklearn.ensemble import BaggingClassifier\n",
    "\n",
    "params_bc = {\"n_estimators\" : (5,10,15),\n",
    "             \"bootstrap\": (True, False)}\n",
    "bc = BaggingClassifier(base_estimator=best_dt,random_state=42)\n",
    "\n",
    "best_bc, best_score_bc, f1_score_bc = calculate(bc, params_bc, xtrain,xtest,ytrain, y_true)"
   ]
  },
  {
   "cell_type": "markdown",
   "metadata": {},
   "source": [
    "## Logistic regression one-hot encoding"
   ]
  },
  {
   "cell_type": "code",
   "execution_count": 260,
   "metadata": {},
   "outputs": [
    {
     "name": "stdout",
     "output_type": "stream",
     "text": [
      "Fitting 5 folds for each of 18 candidates, totalling 90 fits\n",
      "f1-score best: 0.9282, +0.0105 better than baseline\n",
      "Base on train:   0.9176\n",
      "Base on holdout: 0.9050\n",
      "diff: 0.0126\n",
      "\n",
      "Best on train:   0.9282\n",
      "Best on holdout: 0.9199\n",
      "diff: 0.0082\n"
     ]
    },
    {
     "name": "stderr",
     "output_type": "stream",
     "text": [
      "[Parallel(n_jobs=3)]: Done  90 out of  90 | elapsed:    3.8s finished\n"
     ]
    }
   ],
   "source": [
    "params_lr = {'C':np.linspace(0.1,5,num=18)}\n",
    "best_lr, best_score_lr, f1_score_lr = calculate(lr, params_lr, X_onehot_train,X_onehot_test,ytrain, y_true)"
   ]
  },
  {
   "cell_type": "markdown",
   "metadata": {},
   "source": [
    "## Let's summarize"
   ]
  },
  {
   "cell_type": "code",
   "execution_count": 299,
   "metadata": {},
   "outputs": [
    {
     "data": {
      "text/html": [
       "<div>\n",
       "<style>\n",
       "    .dataframe thead tr:only-child th {\n",
       "        text-align: right;\n",
       "    }\n",
       "\n",
       "    .dataframe thead th {\n",
       "        text-align: left;\n",
       "    }\n",
       "\n",
       "    .dataframe tbody tr th {\n",
       "        vertical-align: top;\n",
       "    }\n",
       "</style>\n",
       "<table border=\"1\" class=\"dataframe\">\n",
       "  <thead>\n",
       "    <tr style=\"text-align: right;\">\n",
       "      <th></th>\n",
       "      <th>model</th>\n",
       "      <th>usual_cv</th>\n",
       "      <th>usual_holdout</th>\n",
       "      <th>onehot_cv</th>\n",
       "      <th>onehot_holdout</th>\n",
       "      <th>preselect_cv</th>\n",
       "      <th>preselect_holdout</th>\n",
       "    </tr>\n",
       "  </thead>\n",
       "  <tbody>\n",
       "    <tr>\n",
       "      <th>0</th>\n",
       "      <td>Decision Tree</td>\n",
       "      <td>0.928192</td>\n",
       "      <td>0.920482</td>\n",
       "      <td>NaN</td>\n",
       "      <td>NaN</td>\n",
       "      <td>NaN</td>\n",
       "      <td>NaN</td>\n",
       "    </tr>\n",
       "    <tr>\n",
       "      <th>1</th>\n",
       "      <td>xgboost</td>\n",
       "      <td>0.927998</td>\n",
       "      <td>0.920482</td>\n",
       "      <td>0.928174</td>\n",
       "      <td>0.920482</td>\n",
       "      <td>0.927998</td>\n",
       "      <td>0.920482</td>\n",
       "    </tr>\n",
       "    <tr>\n",
       "      <th>2</th>\n",
       "      <td>KNN</td>\n",
       "      <td>0.927705</td>\n",
       "      <td>0.919928</td>\n",
       "      <td>0.927996</td>\n",
       "      <td>0.920482</td>\n",
       "      <td>NaN</td>\n",
       "      <td>NaN</td>\n",
       "    </tr>\n",
       "    <tr>\n",
       "      <th>3</th>\n",
       "      <td>SVC</td>\n",
       "      <td>0.927998</td>\n",
       "      <td>0.920482</td>\n",
       "      <td>0.927857</td>\n",
       "      <td>0.920482</td>\n",
       "      <td>0.927998</td>\n",
       "      <td>0.920482</td>\n",
       "    </tr>\n",
       "    <tr>\n",
       "      <th>4</th>\n",
       "      <td>RF</td>\n",
       "      <td>0.927998</td>\n",
       "      <td>0.920482</td>\n",
       "      <td>NaN</td>\n",
       "      <td>NaN</td>\n",
       "      <td>NaN</td>\n",
       "      <td>NaN</td>\n",
       "    </tr>\n",
       "    <tr>\n",
       "      <th>5</th>\n",
       "      <td>Bagging</td>\n",
       "      <td>0.927998</td>\n",
       "      <td>0.920482</td>\n",
       "      <td>NaN</td>\n",
       "      <td>NaN</td>\n",
       "      <td>NaN</td>\n",
       "      <td>NaN</td>\n",
       "    </tr>\n",
       "    <tr>\n",
       "      <th>6</th>\n",
       "      <td>LR</td>\n",
       "      <td>NaN</td>\n",
       "      <td>NaN</td>\n",
       "      <td>0.928174</td>\n",
       "      <td>0.919928</td>\n",
       "      <td>NaN</td>\n",
       "      <td>NaN</td>\n",
       "    </tr>\n",
       "  </tbody>\n",
       "</table>\n",
       "</div>"
      ],
      "text/plain": [
       "           model  usual_cv  usual_holdout  onehot_cv  onehot_holdout  \\\n",
       "0  Decision Tree  0.928192       0.920482        NaN             NaN   \n",
       "1        xgboost  0.927998       0.920482   0.928174        0.920482   \n",
       "2            KNN  0.927705       0.919928   0.927996        0.920482   \n",
       "3            SVC  0.927998       0.920482   0.927857        0.920482   \n",
       "4             RF  0.927998       0.920482        NaN             NaN   \n",
       "5        Bagging  0.927998       0.920482        NaN             NaN   \n",
       "6             LR       NaN            NaN   0.928174        0.919928   \n",
       "\n",
       "   preselect_cv  preselect_holdout  \n",
       "0           NaN                NaN  \n",
       "1      0.927998           0.920482  \n",
       "2           NaN                NaN  \n",
       "3      0.927998           0.920482  \n",
       "4           NaN                NaN  \n",
       "5           NaN                NaN  \n",
       "6           NaN                NaN  "
      ]
     },
     "execution_count": 299,
     "metadata": {},
     "output_type": "execute_result"
    }
   ],
   "source": [
    "models = [\"Decision Tree\", \"xgboost\",\"KNN\", \"SVC\", \"RF\", \"Bagging\", \"LR\"]\n",
    "usual_cv = [best_score, best_score_xgb, best_score_knn, best_score_svc, best_score_rf, best_score_bc, None]\n",
    "usual_holdout = [f1_score_dt, f1_score_xgb, f1_score_knn_holdout, f1_score_svc_holdout, f1_score_rf, f1_score_bc, None]\n",
    "onehot_cv = [None, best_score_xgb_one_hot, best_score_knn_onehot, best_score_svc_onehot, None, None, best_score_lr]\n",
    "onehot_holdout=[None, f1_score_xgb_onehot, f1_score_knn_holdout_onehot, f1_score_svc_holdout_onehot, None, None,f1_score_lr]\n",
    "preselect_cv =[None, best_score_xgb_preselect,None, best_score_svc_preselect, None,None, None]\n",
    "preselect_holdout=[None, f1_score_preselect, None, f1_score_svc_holdout_preselect, None,None, None ]\n",
    "\n",
    "summary = pd.DataFrame()\n",
    "summary['model'] = models\n",
    "summary['usual_cv'] = usual_cv\n",
    "summary['usual_holdout'] = usual_holdout\n",
    "summary['onehot_cv'] = onehot_cv\n",
    "summary['onehot_holdout'] = onehot_holdout\n",
    "summary['preselect_cv'] = preselect_cv\n",
    "summary['preselect_holdout'] = preselect_holdout\n",
    "summary"
   ]
  },
  {
   "cell_type": "markdown",
   "metadata": {},
   "source": [
    "P.S. Если в параметр грид брать другие фичи - можно получить 0.9283 на кроссвалидации, считает по кучу часов, на холдауте в итоге хуже."
   ]
  },
  {
   "cell_type": "markdown",
   "metadata": {},
   "source": [
    "## Voting Classifier"
   ]
  },
  {
   "cell_type": "code",
   "execution_count": 275,
   "metadata": {},
   "outputs": [],
   "source": [
    "from sklearn.ensemble import VotingClassifier\n",
    "from sklearn.svm import SVC\n",
    "\n",
    "votingC = VotingClassifier(estimators=[('dt', best_dt), ('xgb', best_xgb),\n",
    "('rf', best_rf)], voting='soft', n_jobs=4)\n",
    "\n",
    "votingC = votingC.fit(xtrain, ytrain)"
   ]
  },
  {
   "cell_type": "code",
   "execution_count": 276,
   "metadata": {},
   "outputs": [
    {
     "data": {
      "text/plain": [
       "0.92048192771084336"
      ]
     },
     "execution_count": 276,
     "metadata": {},
     "output_type": "execute_result"
    }
   ],
   "source": [
    "y_pred_v = votingC.predict(xtest)\n",
    "f1_score(y_true, y_pred_v)"
   ]
  },
  {
   "cell_type": "markdown",
   "metadata": {},
   "source": [
    "Вывод: бенчмарк побили, напоив единорога кровью 100 девственниц дата-саентисток. "
   ]
  },
  {
   "cell_type": "markdown",
   "metadata": {},
   "source": [
    "## Bonus question\n",
    "\n",
    "Consider two possibilities:\n",
    "- (a) you have trained **one best** (on cross-validation) Decision Tree\n",
    "- (b) you randomly choose 25 subsets of 70% of training data, fits \"overfitted\" (max_depth=None) Decision Trees on it - each of them performs slightly worse than Tree in (a), and then average predicted results over all 25 models (overfitted trees)\n",
    "\n",
    "**Which one of them would most likely give the best results on hold-out dataset? What makes you think that way?**"
   ]
  },
  {
   "cell_type": "code",
   "execution_count": 304,
   "metadata": {},
   "outputs": [],
   "source": [
    "from sklearn.model_selection import train_test_split\n",
    "y_pred = []\n",
    "dt_ov = DecisionTreeClassifier(max_depth=None)\n",
    "for i in range(25):\n",
    "    xtr, xt, ytr, yt = train_test_split(xtrain, ytrain, test_size=0.3)\n",
    "    dt_ov.fit(xtr, ytr)\n",
    "    y_pred.append(dt_ov.predict(xtest))"
   ]
  },
  {
   "cell_type": "code",
   "execution_count": 315,
   "metadata": {},
   "outputs": [
    {
     "data": {
      "text/plain": [
       "0.90338164251207731"
      ]
     },
     "execution_count": 315,
     "metadata": {},
     "output_type": "execute_result"
    }
   ],
   "source": [
    "y_p = np.array(y_pred).transpose().mean(axis=1)\n",
    "y_p_n = [1 if x>=0.5 else 0 for x in y_p]\n",
    "f1_score(y_true, y_p_n)"
   ]
  },
  {
   "cell_type": "raw",
   "metadata": {
    "ExecuteTime": {
     "end_time": "2018-03-01T17:07:09.097412Z",
     "start_time": "2018-03-01T17:07:09.081783Z"
    }
   },
   "source": [
    "---------------------------------------------------------\n",
    "your answer goes here\n",
    "---------------------------------------------------------\n",
    "Following principle \"the wisdom of the crowd\" (b) should get better result. (But I tried it and get a little lower result)"
   ]
  }
 ],
 "metadata": {
  "kernelspec": {
   "display_name": "Python 3",
   "language": "python",
   "name": "python3"
  },
  "language_info": {
   "codemirror_mode": {
    "name": "ipython",
    "version": 3
   },
   "file_extension": ".py",
   "mimetype": "text/x-python",
   "name": "python",
   "nbconvert_exporter": "python",
   "pygments_lexer": "ipython3",
   "version": "3.6.3"
  }
 },
 "nbformat": 4,
 "nbformat_minor": 2
}
